{
 "cells": [
  {
   "cell_type": "code",
   "execution_count": 1,
   "id": "cd691c2e",
   "metadata": {},
   "outputs": [],
   "source": [
    "import numpy as np\n",
    "import matplotlib.pyplot as plt\n",
    "import pandas as pd"
   ]
  },
  {
   "cell_type": "code",
   "execution_count": 2,
   "id": "56c1cdca",
   "metadata": {},
   "outputs": [],
   "source": [
    "data=pd.read_excel('Coeur.xlsx')"
   ]
  },
  {
   "cell_type": "code",
   "execution_count": 3,
   "id": "9dffb8e4",
   "metadata": {},
   "outputs": [
    {
     "data": {
      "text/html": [
       "<div>\n",
       "<style scoped>\n",
       "    .dataframe tbody tr th:only-of-type {\n",
       "        vertical-align: middle;\n",
       "    }\n",
       "\n",
       "    .dataframe tbody tr th {\n",
       "        vertical-align: top;\n",
       "    }\n",
       "\n",
       "    .dataframe thead th {\n",
       "        text-align: right;\n",
       "    }\n",
       "</style>\n",
       "<table border=\"1\" class=\"dataframe\">\n",
       "  <thead>\n",
       "    <tr style=\"text-align: right;\">\n",
       "      <th></th>\n",
       "      <th>AGE</th>\n",
       "      <th>SEXE</th>\n",
       "      <th>TDT</th>\n",
       "      <th>PAR</th>\n",
       "      <th>CHOLESTEROL</th>\n",
       "      <th>GAJ</th>\n",
       "      <th>ECG</th>\n",
       "      <th>FCMAX</th>\n",
       "      <th>ANGINE</th>\n",
       "      <th>DEPRESSION</th>\n",
       "      <th>PENTE</th>\n",
       "      <th>CŒUR</th>\n",
       "    </tr>\n",
       "  </thead>\n",
       "  <tbody>\n",
       "    <tr>\n",
       "      <th>0</th>\n",
       "      <td>40</td>\n",
       "      <td>homme</td>\n",
       "      <td>AA</td>\n",
       "      <td>140</td>\n",
       "      <td>289</td>\n",
       "      <td>0</td>\n",
       "      <td>Normal</td>\n",
       "      <td>172</td>\n",
       "      <td>Non</td>\n",
       "      <td>0.0</td>\n",
       "      <td>Ascendant</td>\n",
       "      <td>0</td>\n",
       "    </tr>\n",
       "    <tr>\n",
       "      <th>1</th>\n",
       "      <td>49</td>\n",
       "      <td>femme</td>\n",
       "      <td>DNA</td>\n",
       "      <td>160</td>\n",
       "      <td>180</td>\n",
       "      <td>0</td>\n",
       "      <td>Normal</td>\n",
       "      <td>156</td>\n",
       "      <td>Non</td>\n",
       "      <td>1.0</td>\n",
       "      <td>Plat</td>\n",
       "      <td>1</td>\n",
       "    </tr>\n",
       "    <tr>\n",
       "      <th>2</th>\n",
       "      <td>37</td>\n",
       "      <td>homme</td>\n",
       "      <td>AA</td>\n",
       "      <td>130</td>\n",
       "      <td>283</td>\n",
       "      <td>0</td>\n",
       "      <td>ST</td>\n",
       "      <td>98</td>\n",
       "      <td>Non</td>\n",
       "      <td>0.0</td>\n",
       "      <td>Ascendant</td>\n",
       "      <td>0</td>\n",
       "    </tr>\n",
       "    <tr>\n",
       "      <th>3</th>\n",
       "      <td>48</td>\n",
       "      <td>femme</td>\n",
       "      <td>ASY</td>\n",
       "      <td>138</td>\n",
       "      <td>214</td>\n",
       "      <td>0</td>\n",
       "      <td>Normal</td>\n",
       "      <td>108</td>\n",
       "      <td>Oui</td>\n",
       "      <td>1.5</td>\n",
       "      <td>Plat</td>\n",
       "      <td>1</td>\n",
       "    </tr>\n",
       "    <tr>\n",
       "      <th>4</th>\n",
       "      <td>54</td>\n",
       "      <td>homme</td>\n",
       "      <td>DNA</td>\n",
       "      <td>150</td>\n",
       "      <td>195</td>\n",
       "      <td>0</td>\n",
       "      <td>Normal</td>\n",
       "      <td>122</td>\n",
       "      <td>Non</td>\n",
       "      <td>0.0</td>\n",
       "      <td>Ascendant</td>\n",
       "      <td>0</td>\n",
       "    </tr>\n",
       "  </tbody>\n",
       "</table>\n",
       "</div>"
      ],
      "text/plain": [
       "   AGE   SEXE  TDT  PAR  CHOLESTEROL  GAJ     ECG  FCMAX ANGINE  DEPRESSION   \\\n",
       "0   40  homme   AA  140          289    0  Normal    172    Non          0.0   \n",
       "1   49  femme  DNA  160          180    0  Normal    156    Non          1.0   \n",
       "2   37  homme   AA  130          283    0      ST     98    Non          0.0   \n",
       "3   48  femme  ASY  138          214    0  Normal    108    Oui          1.5   \n",
       "4   54  homme  DNA  150          195    0  Normal    122    Non          0.0   \n",
       "\n",
       "       PENTE  CŒUR  \n",
       "0  Ascendant     0  \n",
       "1       Plat     1  \n",
       "2  Ascendant     0  \n",
       "3       Plat     1  \n",
       "4  Ascendant     0  "
      ]
     },
     "execution_count": 3,
     "metadata": {},
     "output_type": "execute_result"
    }
   ],
   "source": [
    "#2. Faites une copie de l’objet “data” dans un nouvel objet appelé “df”.\n",
    "df = data.copy()\n",
    "df.head()"
   ]
  },
  {
   "cell_type": "markdown",
   "id": "5d4670e1",
   "metadata": {},
   "source": [
    "# verifier les doublons"
   ]
  },
  {
   "cell_type": "code",
   "execution_count": 4,
   "id": "2cdfd61b",
   "metadata": {},
   "outputs": [
    {
     "data": {
      "text/plain": [
       "0"
      ]
     },
     "execution_count": 4,
     "metadata": {},
     "output_type": "execute_result"
    }
   ],
   "source": [
    "df.duplicated().sum()"
   ]
  },
  {
   "cell_type": "markdown",
   "id": "4bec6d85",
   "metadata": {},
   "source": [
    "# Supprimer les doublons\n"
   ]
  },
  {
   "cell_type": "code",
   "execution_count": 5,
   "id": "6f363b04",
   "metadata": {},
   "outputs": [
    {
     "data": {
      "text/html": [
       "<div>\n",
       "<style scoped>\n",
       "    .dataframe tbody tr th:only-of-type {\n",
       "        vertical-align: middle;\n",
       "    }\n",
       "\n",
       "    .dataframe tbody tr th {\n",
       "        vertical-align: top;\n",
       "    }\n",
       "\n",
       "    .dataframe thead th {\n",
       "        text-align: right;\n",
       "    }\n",
       "</style>\n",
       "<table border=\"1\" class=\"dataframe\">\n",
       "  <thead>\n",
       "    <tr style=\"text-align: right;\">\n",
       "      <th></th>\n",
       "      <th>AGE</th>\n",
       "      <th>SEXE</th>\n",
       "      <th>TDT</th>\n",
       "      <th>PAR</th>\n",
       "      <th>CHOLESTEROL</th>\n",
       "      <th>GAJ</th>\n",
       "      <th>ECG</th>\n",
       "      <th>FCMAX</th>\n",
       "      <th>ANGINE</th>\n",
       "      <th>DEPRESSION</th>\n",
       "      <th>PENTE</th>\n",
       "      <th>CŒUR</th>\n",
       "    </tr>\n",
       "  </thead>\n",
       "  <tbody>\n",
       "    <tr>\n",
       "      <th>0</th>\n",
       "      <td>40</td>\n",
       "      <td>homme</td>\n",
       "      <td>AA</td>\n",
       "      <td>140</td>\n",
       "      <td>289</td>\n",
       "      <td>0</td>\n",
       "      <td>Normal</td>\n",
       "      <td>172</td>\n",
       "      <td>Non</td>\n",
       "      <td>0.0</td>\n",
       "      <td>Ascendant</td>\n",
       "      <td>0</td>\n",
       "    </tr>\n",
       "    <tr>\n",
       "      <th>1</th>\n",
       "      <td>49</td>\n",
       "      <td>femme</td>\n",
       "      <td>DNA</td>\n",
       "      <td>160</td>\n",
       "      <td>180</td>\n",
       "      <td>0</td>\n",
       "      <td>Normal</td>\n",
       "      <td>156</td>\n",
       "      <td>Non</td>\n",
       "      <td>1.0</td>\n",
       "      <td>Plat</td>\n",
       "      <td>1</td>\n",
       "    </tr>\n",
       "    <tr>\n",
       "      <th>2</th>\n",
       "      <td>37</td>\n",
       "      <td>homme</td>\n",
       "      <td>AA</td>\n",
       "      <td>130</td>\n",
       "      <td>283</td>\n",
       "      <td>0</td>\n",
       "      <td>ST</td>\n",
       "      <td>98</td>\n",
       "      <td>Non</td>\n",
       "      <td>0.0</td>\n",
       "      <td>Ascendant</td>\n",
       "      <td>0</td>\n",
       "    </tr>\n",
       "    <tr>\n",
       "      <th>3</th>\n",
       "      <td>48</td>\n",
       "      <td>femme</td>\n",
       "      <td>ASY</td>\n",
       "      <td>138</td>\n",
       "      <td>214</td>\n",
       "      <td>0</td>\n",
       "      <td>Normal</td>\n",
       "      <td>108</td>\n",
       "      <td>Oui</td>\n",
       "      <td>1.5</td>\n",
       "      <td>Plat</td>\n",
       "      <td>1</td>\n",
       "    </tr>\n",
       "    <tr>\n",
       "      <th>4</th>\n",
       "      <td>54</td>\n",
       "      <td>homme</td>\n",
       "      <td>DNA</td>\n",
       "      <td>150</td>\n",
       "      <td>195</td>\n",
       "      <td>0</td>\n",
       "      <td>Normal</td>\n",
       "      <td>122</td>\n",
       "      <td>Non</td>\n",
       "      <td>0.0</td>\n",
       "      <td>Ascendant</td>\n",
       "      <td>0</td>\n",
       "    </tr>\n",
       "    <tr>\n",
       "      <th>...</th>\n",
       "      <td>...</td>\n",
       "      <td>...</td>\n",
       "      <td>...</td>\n",
       "      <td>...</td>\n",
       "      <td>...</td>\n",
       "      <td>...</td>\n",
       "      <td>...</td>\n",
       "      <td>...</td>\n",
       "      <td>...</td>\n",
       "      <td>...</td>\n",
       "      <td>...</td>\n",
       "      <td>...</td>\n",
       "    </tr>\n",
       "    <tr>\n",
       "      <th>913</th>\n",
       "      <td>45</td>\n",
       "      <td>homme</td>\n",
       "      <td>AT</td>\n",
       "      <td>110</td>\n",
       "      <td>264</td>\n",
       "      <td>0</td>\n",
       "      <td>Normal</td>\n",
       "      <td>132</td>\n",
       "      <td>Non</td>\n",
       "      <td>1.2</td>\n",
       "      <td>Plat</td>\n",
       "      <td>1</td>\n",
       "    </tr>\n",
       "    <tr>\n",
       "      <th>914</th>\n",
       "      <td>68</td>\n",
       "      <td>homme</td>\n",
       "      <td>ASY</td>\n",
       "      <td>144</td>\n",
       "      <td>193</td>\n",
       "      <td>1</td>\n",
       "      <td>Normal</td>\n",
       "      <td>141</td>\n",
       "      <td>Non</td>\n",
       "      <td>3.4</td>\n",
       "      <td>Plat</td>\n",
       "      <td>1</td>\n",
       "    </tr>\n",
       "    <tr>\n",
       "      <th>915</th>\n",
       "      <td>57</td>\n",
       "      <td>homme</td>\n",
       "      <td>ASY</td>\n",
       "      <td>130</td>\n",
       "      <td>131</td>\n",
       "      <td>0</td>\n",
       "      <td>Normal</td>\n",
       "      <td>115</td>\n",
       "      <td>Oui</td>\n",
       "      <td>1.2</td>\n",
       "      <td>Plat</td>\n",
       "      <td>1</td>\n",
       "    </tr>\n",
       "    <tr>\n",
       "      <th>916</th>\n",
       "      <td>57</td>\n",
       "      <td>femme</td>\n",
       "      <td>AA</td>\n",
       "      <td>130</td>\n",
       "      <td>236</td>\n",
       "      <td>0</td>\n",
       "      <td>LVH</td>\n",
       "      <td>174</td>\n",
       "      <td>Non</td>\n",
       "      <td>0.0</td>\n",
       "      <td>Plat</td>\n",
       "      <td>1</td>\n",
       "    </tr>\n",
       "    <tr>\n",
       "      <th>917</th>\n",
       "      <td>38</td>\n",
       "      <td>homme</td>\n",
       "      <td>DNA</td>\n",
       "      <td>138</td>\n",
       "      <td>175</td>\n",
       "      <td>0</td>\n",
       "      <td>Normal</td>\n",
       "      <td>173</td>\n",
       "      <td>Non</td>\n",
       "      <td>0.0</td>\n",
       "      <td>Ascendant</td>\n",
       "      <td>0</td>\n",
       "    </tr>\n",
       "  </tbody>\n",
       "</table>\n",
       "<p>918 rows × 12 columns</p>\n",
       "</div>"
      ],
      "text/plain": [
       "     AGE   SEXE  TDT  PAR  CHOLESTEROL  GAJ     ECG  FCMAX ANGINE  \\\n",
       "0     40  homme   AA  140          289    0  Normal    172    Non   \n",
       "1     49  femme  DNA  160          180    0  Normal    156    Non   \n",
       "2     37  homme   AA  130          283    0      ST     98    Non   \n",
       "3     48  femme  ASY  138          214    0  Normal    108    Oui   \n",
       "4     54  homme  DNA  150          195    0  Normal    122    Non   \n",
       "..   ...    ...  ...  ...          ...  ...     ...    ...    ...   \n",
       "913   45  homme   AT  110          264    0  Normal    132    Non   \n",
       "914   68  homme  ASY  144          193    1  Normal    141    Non   \n",
       "915   57  homme  ASY  130          131    0  Normal    115    Oui   \n",
       "916   57  femme   AA  130          236    0     LVH    174    Non   \n",
       "917   38  homme  DNA  138          175    0  Normal    173    Non   \n",
       "\n",
       "     DEPRESSION       PENTE  CŒUR  \n",
       "0            0.0  Ascendant     0  \n",
       "1            1.0       Plat     1  \n",
       "2            0.0  Ascendant     0  \n",
       "3            1.5       Plat     1  \n",
       "4            0.0  Ascendant     0  \n",
       "..           ...        ...   ...  \n",
       "913          1.2       Plat     1  \n",
       "914          3.4       Plat     1  \n",
       "915          1.2       Plat     1  \n",
       "916          0.0       Plat     1  \n",
       "917          0.0  Ascendant     0  \n",
       "\n",
       "[918 rows x 12 columns]"
      ]
     },
     "execution_count": 5,
     "metadata": {},
     "output_type": "execute_result"
    }
   ],
   "source": [
    "    df.drop_duplicates()"
   ]
  },
  {
   "cell_type": "markdown",
   "id": "4ad5e15f",
   "metadata": {},
   "source": [
    "# Verification de contantes"
   ]
  },
  {
   "cell_type": "code",
   "execution_count": 6,
   "id": "45dd0c0d",
   "metadata": {},
   "outputs": [
    {
     "name": "stdout",
     "output_type": "stream",
     "text": [
      "True\n"
     ]
    }
   ],
   "source": [
    "import math\n",
    "b = math.nan\n",
    "print(np.isnan(b))\n"
   ]
  },
  {
   "cell_type": "markdown",
   "id": "3e1a7bc8",
   "metadata": {},
   "source": [
    "# Verification de donnée manquantes"
   ]
  },
  {
   "cell_type": "code",
   "execution_count": 7,
   "id": "14dd3f1d",
   "metadata": {},
   "outputs": [
    {
     "data": {
      "text/plain": [
       "AGE            0\n",
       "SEXE           0\n",
       "TDT            0\n",
       "PAR            0\n",
       "CHOLESTEROL    0\n",
       "GAJ            0\n",
       "ECG            0\n",
       "FCMAX          0\n",
       "ANGINE         0\n",
       "DEPRESSION     0\n",
       "PENTE          0\n",
       "CŒUR           0\n",
       "dtype: int64"
      ]
     },
     "execution_count": 7,
     "metadata": {},
     "output_type": "execute_result"
    }
   ],
   "source": [
    "df.isna().sum()"
   ]
  },
  {
   "cell_type": "markdown",
   "id": "74f72ce9",
   "metadata": {},
   "source": [
    "# Normalisation de toutes les variables quantitatives\n"
   ]
  },
  {
   "cell_type": "code",
   "execution_count": 8,
   "id": "c3ef74ae",
   "metadata": {},
   "outputs": [],
   "source": [
    "df_quant =df.select_dtypes(exclude='object').drop('CŒUR' , axis=1)"
   ]
  },
  {
   "cell_type": "code",
   "execution_count": 9,
   "id": "b66ffc91",
   "metadata": {},
   "outputs": [
    {
     "data": {
      "text/html": [
       "<div>\n",
       "<style scoped>\n",
       "    .dataframe tbody tr th:only-of-type {\n",
       "        vertical-align: middle;\n",
       "    }\n",
       "\n",
       "    .dataframe tbody tr th {\n",
       "        vertical-align: top;\n",
       "    }\n",
       "\n",
       "    .dataframe thead th {\n",
       "        text-align: right;\n",
       "    }\n",
       "</style>\n",
       "<table border=\"1\" class=\"dataframe\">\n",
       "  <thead>\n",
       "    <tr style=\"text-align: right;\">\n",
       "      <th></th>\n",
       "      <th>AGE</th>\n",
       "      <th>PAR</th>\n",
       "      <th>CHOLESTEROL</th>\n",
       "      <th>GAJ</th>\n",
       "      <th>FCMAX</th>\n",
       "      <th>DEPRESSION</th>\n",
       "    </tr>\n",
       "  </thead>\n",
       "  <tbody>\n",
       "    <tr>\n",
       "      <th>0</th>\n",
       "      <td>0.747511</td>\n",
       "      <td>1.057430</td>\n",
       "      <td>1.453726</td>\n",
       "      <td>0.00000</td>\n",
       "      <td>1.257224</td>\n",
       "      <td>0.000000</td>\n",
       "    </tr>\n",
       "    <tr>\n",
       "      <th>1</th>\n",
       "      <td>0.915701</td>\n",
       "      <td>1.208491</td>\n",
       "      <td>0.905435</td>\n",
       "      <td>0.00000</td>\n",
       "      <td>1.140273</td>\n",
       "      <td>1.126933</td>\n",
       "    </tr>\n",
       "    <tr>\n",
       "      <th>2</th>\n",
       "      <td>0.691448</td>\n",
       "      <td>0.981899</td>\n",
       "      <td>1.423544</td>\n",
       "      <td>0.00000</td>\n",
       "      <td>0.716325</td>\n",
       "      <td>0.000000</td>\n",
       "    </tr>\n",
       "    <tr>\n",
       "      <th>3</th>\n",
       "      <td>0.897014</td>\n",
       "      <td>1.042324</td>\n",
       "      <td>1.076461</td>\n",
       "      <td>0.00000</td>\n",
       "      <td>0.789420</td>\n",
       "      <td>1.690400</td>\n",
       "    </tr>\n",
       "    <tr>\n",
       "      <th>4</th>\n",
       "      <td>1.009140</td>\n",
       "      <td>1.132960</td>\n",
       "      <td>0.980887</td>\n",
       "      <td>0.00000</td>\n",
       "      <td>0.891752</td>\n",
       "      <td>0.000000</td>\n",
       "    </tr>\n",
       "    <tr>\n",
       "      <th>...</th>\n",
       "      <td>...</td>\n",
       "      <td>...</td>\n",
       "      <td>...</td>\n",
       "      <td>...</td>\n",
       "      <td>...</td>\n",
       "      <td>...</td>\n",
       "    </tr>\n",
       "    <tr>\n",
       "      <th>913</th>\n",
       "      <td>0.840950</td>\n",
       "      <td>0.830838</td>\n",
       "      <td>1.327971</td>\n",
       "      <td>0.00000</td>\n",
       "      <td>0.964846</td>\n",
       "      <td>1.352320</td>\n",
       "    </tr>\n",
       "    <tr>\n",
       "      <th>914</th>\n",
       "      <td>1.270769</td>\n",
       "      <td>1.087642</td>\n",
       "      <td>0.970827</td>\n",
       "      <td>4.28972</td>\n",
       "      <td>1.030631</td>\n",
       "      <td>3.831574</td>\n",
       "    </tr>\n",
       "    <tr>\n",
       "      <th>915</th>\n",
       "      <td>1.065204</td>\n",
       "      <td>0.981899</td>\n",
       "      <td>0.658955</td>\n",
       "      <td>0.00000</td>\n",
       "      <td>0.840586</td>\n",
       "      <td>1.352320</td>\n",
       "    </tr>\n",
       "    <tr>\n",
       "      <th>916</th>\n",
       "      <td>1.065204</td>\n",
       "      <td>0.981899</td>\n",
       "      <td>1.187125</td>\n",
       "      <td>0.00000</td>\n",
       "      <td>1.271843</td>\n",
       "      <td>0.000000</td>\n",
       "    </tr>\n",
       "    <tr>\n",
       "      <th>917</th>\n",
       "      <td>0.710136</td>\n",
       "      <td>1.042324</td>\n",
       "      <td>0.880284</td>\n",
       "      <td>0.00000</td>\n",
       "      <td>1.264533</td>\n",
       "      <td>0.000000</td>\n",
       "    </tr>\n",
       "  </tbody>\n",
       "</table>\n",
       "<p>918 rows × 6 columns</p>\n",
       "</div>"
      ],
      "text/plain": [
       "          AGE       PAR  CHOLESTEROL      GAJ     FCMAX  DEPRESSION \n",
       "0    0.747511  1.057430     1.453726  0.00000  1.257224     0.000000\n",
       "1    0.915701  1.208491     0.905435  0.00000  1.140273     1.126933\n",
       "2    0.691448  0.981899     1.423544  0.00000  0.716325     0.000000\n",
       "3    0.897014  1.042324     1.076461  0.00000  0.789420     1.690400\n",
       "4    1.009140  1.132960     0.980887  0.00000  0.891752     0.000000\n",
       "..        ...       ...          ...      ...       ...          ...\n",
       "913  0.840950  0.830838     1.327971  0.00000  0.964846     1.352320\n",
       "914  1.270769  1.087642     0.970827  4.28972  1.030631     3.831574\n",
       "915  1.065204  0.981899     0.658955  0.00000  0.840586     1.352320\n",
       "916  1.065204  0.981899     1.187125  0.00000  1.271843     0.000000\n",
       "917  0.710136  1.042324     0.880284  0.00000  1.264533     0.000000\n",
       "\n",
       "[918 rows x 6 columns]"
      ]
     },
     "execution_count": 9,
     "metadata": {},
     "output_type": "execute_result"
    }
   ],
   "source": [
    "df_quant =df.select_dtypes(exclude='object').drop('CŒUR' , axis=1).columns\n",
    "for col in df_quant:\n",
    "    df[col]=pd.DataFrame(df[col]/df[col].mean())\n",
    "df_norm =df[df_quant]\n",
    "df_norm"
   ]
  },
  {
   "cell_type": "markdown",
   "id": "a3c9d2f1",
   "metadata": {},
   "source": [
    "# Recodage de toutes les variables quantitative"
   ]
  },
  {
   "cell_type": "code",
   "execution_count": 10,
   "id": "6267faac",
   "metadata": {},
   "outputs": [],
   "source": [
    "def recoder(serie):\n",
    "  return serie.astype('category').cat.codes\n"
   ]
  },
  {
   "cell_type": "code",
   "execution_count": 11,
   "id": "0a57372a",
   "metadata": {
    "scrolled": true
   },
   "outputs": [],
   "source": [
    "def recoder_df(data):\n",
    "    for col in data.select_dtypes('object').columns:\n",
    "        data[col]=recoder(data[col])\n",
    "        return data\n",
    " "
   ]
  },
  {
   "cell_type": "code",
   "execution_count": 18,
   "id": "a03afb00",
   "metadata": {
    "scrolled": true
   },
   "outputs": [
    {
     "data": {
      "text/html": [
       "<div>\n",
       "<style scoped>\n",
       "    .dataframe tbody tr th:only-of-type {\n",
       "        vertical-align: middle;\n",
       "    }\n",
       "\n",
       "    .dataframe tbody tr th {\n",
       "        vertical-align: top;\n",
       "    }\n",
       "\n",
       "    .dataframe thead th {\n",
       "        text-align: right;\n",
       "    }\n",
       "</style>\n",
       "<table border=\"1\" class=\"dataframe\">\n",
       "  <thead>\n",
       "    <tr style=\"text-align: right;\">\n",
       "      <th></th>\n",
       "      <th>AGE</th>\n",
       "      <th>SEXE</th>\n",
       "      <th>TDT</th>\n",
       "      <th>PAR</th>\n",
       "      <th>CHOLESTEROL</th>\n",
       "      <th>GAJ</th>\n",
       "      <th>ECG</th>\n",
       "      <th>FCMAX</th>\n",
       "      <th>ANGINE</th>\n",
       "      <th>DEPRESSION</th>\n",
       "      <th>PENTE</th>\n",
       "      <th>CŒUR</th>\n",
       "    </tr>\n",
       "  </thead>\n",
       "  <tbody>\n",
       "    <tr>\n",
       "      <th>0</th>\n",
       "      <td>0.747511</td>\n",
       "      <td>1</td>\n",
       "      <td>0</td>\n",
       "      <td>1.057430</td>\n",
       "      <td>1.453726</td>\n",
       "      <td>0.00000</td>\n",
       "      <td>1</td>\n",
       "      <td>1.257224</td>\n",
       "      <td>0</td>\n",
       "      <td>0.000000</td>\n",
       "      <td>0</td>\n",
       "      <td>0</td>\n",
       "    </tr>\n",
       "    <tr>\n",
       "      <th>1</th>\n",
       "      <td>0.915701</td>\n",
       "      <td>0</td>\n",
       "      <td>3</td>\n",
       "      <td>1.208491</td>\n",
       "      <td>0.905435</td>\n",
       "      <td>0.00000</td>\n",
       "      <td>1</td>\n",
       "      <td>1.140273</td>\n",
       "      <td>0</td>\n",
       "      <td>1.126933</td>\n",
       "      <td>2</td>\n",
       "      <td>1</td>\n",
       "    </tr>\n",
       "    <tr>\n",
       "      <th>2</th>\n",
       "      <td>0.691448</td>\n",
       "      <td>1</td>\n",
       "      <td>0</td>\n",
       "      <td>0.981899</td>\n",
       "      <td>1.423544</td>\n",
       "      <td>0.00000</td>\n",
       "      <td>2</td>\n",
       "      <td>0.716325</td>\n",
       "      <td>0</td>\n",
       "      <td>0.000000</td>\n",
       "      <td>0</td>\n",
       "      <td>0</td>\n",
       "    </tr>\n",
       "    <tr>\n",
       "      <th>3</th>\n",
       "      <td>0.897014</td>\n",
       "      <td>0</td>\n",
       "      <td>1</td>\n",
       "      <td>1.042324</td>\n",
       "      <td>1.076461</td>\n",
       "      <td>0.00000</td>\n",
       "      <td>1</td>\n",
       "      <td>0.789420</td>\n",
       "      <td>1</td>\n",
       "      <td>1.690400</td>\n",
       "      <td>2</td>\n",
       "      <td>1</td>\n",
       "    </tr>\n",
       "    <tr>\n",
       "      <th>4</th>\n",
       "      <td>1.009140</td>\n",
       "      <td>1</td>\n",
       "      <td>3</td>\n",
       "      <td>1.132960</td>\n",
       "      <td>0.980887</td>\n",
       "      <td>0.00000</td>\n",
       "      <td>1</td>\n",
       "      <td>0.891752</td>\n",
       "      <td>0</td>\n",
       "      <td>0.000000</td>\n",
       "      <td>0</td>\n",
       "      <td>0</td>\n",
       "    </tr>\n",
       "    <tr>\n",
       "      <th>...</th>\n",
       "      <td>...</td>\n",
       "      <td>...</td>\n",
       "      <td>...</td>\n",
       "      <td>...</td>\n",
       "      <td>...</td>\n",
       "      <td>...</td>\n",
       "      <td>...</td>\n",
       "      <td>...</td>\n",
       "      <td>...</td>\n",
       "      <td>...</td>\n",
       "      <td>...</td>\n",
       "      <td>...</td>\n",
       "    </tr>\n",
       "    <tr>\n",
       "      <th>913</th>\n",
       "      <td>0.840950</td>\n",
       "      <td>1</td>\n",
       "      <td>2</td>\n",
       "      <td>0.830838</td>\n",
       "      <td>1.327971</td>\n",
       "      <td>0.00000</td>\n",
       "      <td>1</td>\n",
       "      <td>0.964846</td>\n",
       "      <td>0</td>\n",
       "      <td>1.352320</td>\n",
       "      <td>2</td>\n",
       "      <td>1</td>\n",
       "    </tr>\n",
       "    <tr>\n",
       "      <th>914</th>\n",
       "      <td>1.270769</td>\n",
       "      <td>1</td>\n",
       "      <td>1</td>\n",
       "      <td>1.087642</td>\n",
       "      <td>0.970827</td>\n",
       "      <td>4.28972</td>\n",
       "      <td>1</td>\n",
       "      <td>1.030631</td>\n",
       "      <td>0</td>\n",
       "      <td>3.831574</td>\n",
       "      <td>2</td>\n",
       "      <td>1</td>\n",
       "    </tr>\n",
       "    <tr>\n",
       "      <th>915</th>\n",
       "      <td>1.065204</td>\n",
       "      <td>1</td>\n",
       "      <td>1</td>\n",
       "      <td>0.981899</td>\n",
       "      <td>0.658955</td>\n",
       "      <td>0.00000</td>\n",
       "      <td>1</td>\n",
       "      <td>0.840586</td>\n",
       "      <td>1</td>\n",
       "      <td>1.352320</td>\n",
       "      <td>2</td>\n",
       "      <td>1</td>\n",
       "    </tr>\n",
       "    <tr>\n",
       "      <th>916</th>\n",
       "      <td>1.065204</td>\n",
       "      <td>0</td>\n",
       "      <td>0</td>\n",
       "      <td>0.981899</td>\n",
       "      <td>1.187125</td>\n",
       "      <td>0.00000</td>\n",
       "      <td>0</td>\n",
       "      <td>1.271843</td>\n",
       "      <td>0</td>\n",
       "      <td>0.000000</td>\n",
       "      <td>2</td>\n",
       "      <td>1</td>\n",
       "    </tr>\n",
       "    <tr>\n",
       "      <th>917</th>\n",
       "      <td>0.710136</td>\n",
       "      <td>1</td>\n",
       "      <td>3</td>\n",
       "      <td>1.042324</td>\n",
       "      <td>0.880284</td>\n",
       "      <td>0.00000</td>\n",
       "      <td>1</td>\n",
       "      <td>1.264533</td>\n",
       "      <td>0</td>\n",
       "      <td>0.000000</td>\n",
       "      <td>0</td>\n",
       "      <td>0</td>\n",
       "    </tr>\n",
       "  </tbody>\n",
       "</table>\n",
       "<p>918 rows × 12 columns</p>\n",
       "</div>"
      ],
      "text/plain": [
       "          AGE  SEXE  TDT       PAR  CHOLESTEROL      GAJ  ECG     FCMAX  \\\n",
       "0    0.747511     1    0  1.057430     1.453726  0.00000    1  1.257224   \n",
       "1    0.915701     0    3  1.208491     0.905435  0.00000    1  1.140273   \n",
       "2    0.691448     1    0  0.981899     1.423544  0.00000    2  0.716325   \n",
       "3    0.897014     0    1  1.042324     1.076461  0.00000    1  0.789420   \n",
       "4    1.009140     1    3  1.132960     0.980887  0.00000    1  0.891752   \n",
       "..        ...   ...  ...       ...          ...      ...  ...       ...   \n",
       "913  0.840950     1    2  0.830838     1.327971  0.00000    1  0.964846   \n",
       "914  1.270769     1    1  1.087642     0.970827  4.28972    1  1.030631   \n",
       "915  1.065204     1    1  0.981899     0.658955  0.00000    1  0.840586   \n",
       "916  1.065204     0    0  0.981899     1.187125  0.00000    0  1.271843   \n",
       "917  0.710136     1    3  1.042324     0.880284  0.00000    1  1.264533   \n",
       "\n",
       "     ANGINE  DEPRESSION   PENTE  CŒUR  \n",
       "0         0     0.000000      0     0  \n",
       "1         0     1.126933      2     1  \n",
       "2         0     0.000000      0     0  \n",
       "3         1     1.690400      2     1  \n",
       "4         0     0.000000      0     0  \n",
       "..      ...          ...    ...   ...  \n",
       "913       0     1.352320      2     1  \n",
       "914       0     3.831574      2     1  \n",
       "915       1     1.352320      2     1  \n",
       "916       0     0.000000      2     1  \n",
       "917       0     0.000000      0     0  \n",
       "\n",
       "[918 rows x 12 columns]"
      ]
     },
     "execution_count": 18,
     "metadata": {},
     "output_type": "execute_result"
    }
   ],
   "source": [
    "recoder_df(df)"
   ]
  },
  {
   "cell_type": "markdown",
   "id": "6462dfee",
   "metadata": {},
   "source": [
    "# 8-separer la variable cible coeur des autres variables de df"
   ]
  },
  {
   "cell_type": "code",
   "execution_count": 28,
   "id": "37a0afce",
   "metadata": {
    "scrolled": true
   },
   "outputs": [
    {
     "data": {
      "text/html": [
       "<div>\n",
       "<style scoped>\n",
       "    .dataframe tbody tr th:only-of-type {\n",
       "        vertical-align: middle;\n",
       "    }\n",
       "\n",
       "    .dataframe tbody tr th {\n",
       "        vertical-align: top;\n",
       "    }\n",
       "\n",
       "    .dataframe thead th {\n",
       "        text-align: right;\n",
       "    }\n",
       "</style>\n",
       "<table border=\"1\" class=\"dataframe\">\n",
       "  <thead>\n",
       "    <tr style=\"text-align: right;\">\n",
       "      <th></th>\n",
       "      <th>AGE</th>\n",
       "      <th>SEXE</th>\n",
       "      <th>TDT</th>\n",
       "      <th>PAR</th>\n",
       "      <th>CHOLESTEROL</th>\n",
       "      <th>GAJ</th>\n",
       "      <th>ECG</th>\n",
       "      <th>FCMAX</th>\n",
       "      <th>ANGINE</th>\n",
       "      <th>DEPRESSION</th>\n",
       "      <th>PENTE</th>\n",
       "    </tr>\n",
       "  </thead>\n",
       "  <tbody>\n",
       "    <tr>\n",
       "      <th>0</th>\n",
       "      <td>0.747511</td>\n",
       "      <td>1</td>\n",
       "      <td>0</td>\n",
       "      <td>1.057430</td>\n",
       "      <td>1.453726</td>\n",
       "      <td>0.00000</td>\n",
       "      <td>1</td>\n",
       "      <td>1.257224</td>\n",
       "      <td>0</td>\n",
       "      <td>0.000000</td>\n",
       "      <td>0</td>\n",
       "    </tr>\n",
       "    <tr>\n",
       "      <th>1</th>\n",
       "      <td>0.915701</td>\n",
       "      <td>0</td>\n",
       "      <td>3</td>\n",
       "      <td>1.208491</td>\n",
       "      <td>0.905435</td>\n",
       "      <td>0.00000</td>\n",
       "      <td>1</td>\n",
       "      <td>1.140273</td>\n",
       "      <td>0</td>\n",
       "      <td>1.126933</td>\n",
       "      <td>2</td>\n",
       "    </tr>\n",
       "    <tr>\n",
       "      <th>2</th>\n",
       "      <td>0.691448</td>\n",
       "      <td>1</td>\n",
       "      <td>0</td>\n",
       "      <td>0.981899</td>\n",
       "      <td>1.423544</td>\n",
       "      <td>0.00000</td>\n",
       "      <td>2</td>\n",
       "      <td>0.716325</td>\n",
       "      <td>0</td>\n",
       "      <td>0.000000</td>\n",
       "      <td>0</td>\n",
       "    </tr>\n",
       "    <tr>\n",
       "      <th>3</th>\n",
       "      <td>0.897014</td>\n",
       "      <td>0</td>\n",
       "      <td>1</td>\n",
       "      <td>1.042324</td>\n",
       "      <td>1.076461</td>\n",
       "      <td>0.00000</td>\n",
       "      <td>1</td>\n",
       "      <td>0.789420</td>\n",
       "      <td>1</td>\n",
       "      <td>1.690400</td>\n",
       "      <td>2</td>\n",
       "    </tr>\n",
       "    <tr>\n",
       "      <th>4</th>\n",
       "      <td>1.009140</td>\n",
       "      <td>1</td>\n",
       "      <td>3</td>\n",
       "      <td>1.132960</td>\n",
       "      <td>0.980887</td>\n",
       "      <td>0.00000</td>\n",
       "      <td>1</td>\n",
       "      <td>0.891752</td>\n",
       "      <td>0</td>\n",
       "      <td>0.000000</td>\n",
       "      <td>0</td>\n",
       "    </tr>\n",
       "    <tr>\n",
       "      <th>...</th>\n",
       "      <td>...</td>\n",
       "      <td>...</td>\n",
       "      <td>...</td>\n",
       "      <td>...</td>\n",
       "      <td>...</td>\n",
       "      <td>...</td>\n",
       "      <td>...</td>\n",
       "      <td>...</td>\n",
       "      <td>...</td>\n",
       "      <td>...</td>\n",
       "      <td>...</td>\n",
       "    </tr>\n",
       "    <tr>\n",
       "      <th>913</th>\n",
       "      <td>0.840950</td>\n",
       "      <td>1</td>\n",
       "      <td>2</td>\n",
       "      <td>0.830838</td>\n",
       "      <td>1.327971</td>\n",
       "      <td>0.00000</td>\n",
       "      <td>1</td>\n",
       "      <td>0.964846</td>\n",
       "      <td>0</td>\n",
       "      <td>1.352320</td>\n",
       "      <td>2</td>\n",
       "    </tr>\n",
       "    <tr>\n",
       "      <th>914</th>\n",
       "      <td>1.270769</td>\n",
       "      <td>1</td>\n",
       "      <td>1</td>\n",
       "      <td>1.087642</td>\n",
       "      <td>0.970827</td>\n",
       "      <td>4.28972</td>\n",
       "      <td>1</td>\n",
       "      <td>1.030631</td>\n",
       "      <td>0</td>\n",
       "      <td>3.831574</td>\n",
       "      <td>2</td>\n",
       "    </tr>\n",
       "    <tr>\n",
       "      <th>915</th>\n",
       "      <td>1.065204</td>\n",
       "      <td>1</td>\n",
       "      <td>1</td>\n",
       "      <td>0.981899</td>\n",
       "      <td>0.658955</td>\n",
       "      <td>0.00000</td>\n",
       "      <td>1</td>\n",
       "      <td>0.840586</td>\n",
       "      <td>1</td>\n",
       "      <td>1.352320</td>\n",
       "      <td>2</td>\n",
       "    </tr>\n",
       "    <tr>\n",
       "      <th>916</th>\n",
       "      <td>1.065204</td>\n",
       "      <td>0</td>\n",
       "      <td>0</td>\n",
       "      <td>0.981899</td>\n",
       "      <td>1.187125</td>\n",
       "      <td>0.00000</td>\n",
       "      <td>0</td>\n",
       "      <td>1.271843</td>\n",
       "      <td>0</td>\n",
       "      <td>0.000000</td>\n",
       "      <td>2</td>\n",
       "    </tr>\n",
       "    <tr>\n",
       "      <th>917</th>\n",
       "      <td>0.710136</td>\n",
       "      <td>1</td>\n",
       "      <td>3</td>\n",
       "      <td>1.042324</td>\n",
       "      <td>0.880284</td>\n",
       "      <td>0.00000</td>\n",
       "      <td>1</td>\n",
       "      <td>1.264533</td>\n",
       "      <td>0</td>\n",
       "      <td>0.000000</td>\n",
       "      <td>0</td>\n",
       "    </tr>\n",
       "  </tbody>\n",
       "</table>\n",
       "<p>918 rows × 11 columns</p>\n",
       "</div>"
      ],
      "text/plain": [
       "          AGE  SEXE  TDT       PAR  CHOLESTEROL      GAJ  ECG     FCMAX  \\\n",
       "0    0.747511     1    0  1.057430     1.453726  0.00000    1  1.257224   \n",
       "1    0.915701     0    3  1.208491     0.905435  0.00000    1  1.140273   \n",
       "2    0.691448     1    0  0.981899     1.423544  0.00000    2  0.716325   \n",
       "3    0.897014     0    1  1.042324     1.076461  0.00000    1  0.789420   \n",
       "4    1.009140     1    3  1.132960     0.980887  0.00000    1  0.891752   \n",
       "..        ...   ...  ...       ...          ...      ...  ...       ...   \n",
       "913  0.840950     1    2  0.830838     1.327971  0.00000    1  0.964846   \n",
       "914  1.270769     1    1  1.087642     0.970827  4.28972    1  1.030631   \n",
       "915  1.065204     1    1  0.981899     0.658955  0.00000    1  0.840586   \n",
       "916  1.065204     0    0  0.981899     1.187125  0.00000    0  1.271843   \n",
       "917  0.710136     1    3  1.042324     0.880284  0.00000    1  1.264533   \n",
       "\n",
       "     ANGINE  DEPRESSION   PENTE  \n",
       "0         0     0.000000      0  \n",
       "1         0     1.126933      2  \n",
       "2         0     0.000000      0  \n",
       "3         1     1.690400      2  \n",
       "4         0     0.000000      0  \n",
       "..      ...          ...    ...  \n",
       "913       0     1.352320      2  \n",
       "914       0     3.831574      2  \n",
       "915       1     1.352320      2  \n",
       "916       0     0.000000      2  \n",
       "917       0     0.000000      0  \n",
       "\n",
       "[918 rows x 11 columns]"
      ]
     },
     "execution_count": 28,
     "metadata": {},
     "output_type": "execute_result"
    }
   ],
   "source": [
    "Y=df[['CŒUR']]\n",
    "X=df[['AGE','SEXE','TDT','PAR','CHOLESTEROL','GAJ','ECG','FCMAX','ANGINE','DEPRESSION ','PENTE']]\n",
    "X"
   ]
  },
  {
   "cell_type": "markdown",
   "id": "09c35dae",
   "metadata": {},
   "source": [
    "# 9. En utilisant la fonction train_test_split du module model_selection du package sklearn, subdiviser vos données X et Y en respectivement X_train, X_test et Y_train, Y_test. X_train et Y_train doivent contenir respectivement 80 % des données de X et Y."
   ]
  },
  {
   "cell_type": "code",
   "execution_count": 29,
   "id": "a6d82d83",
   "metadata": {},
   "outputs": [],
   "source": [
    "from sklearn.model_selection import train_test_split\n"
   ]
  },
  {
   "cell_type": "code",
   "execution_count": 30,
   "id": "6040a380",
   "metadata": {},
   "outputs": [],
   "source": [
    "X_train, X_test, y_train, y_test= train_test_split (X,Y,test_size =0.2 ,random_state = 1)"
   ]
  },
  {
   "cell_type": "code",
   "execution_count": 31,
   "id": "1adbd8a9",
   "metadata": {},
   "outputs": [
    {
     "name": "stdout",
     "output_type": "stream",
     "text": [
      "train_set (734, 11)\n",
      "test_set (184, 11)\n"
     ]
    }
   ],
   "source": [
    "print('train_set', X_train.shape)\n",
    "print('test_set', X_test.shape)"
   ]
  },
  {
   "cell_type": "markdown",
   "id": "c4870f1c",
   "metadata": {},
   "source": [
    "# 10. En utilisant la classe LogisticRegression du module linear_model du package sklearn, construisez un modèle de régression logistique en utilisant les données X_train et Y_train et la méthode fit de la classe LogisticRegression."
   ]
  },
  {
   "cell_type": "code",
   "execution_count": 32,
   "id": "26497c62",
   "metadata": {},
   "outputs": [],
   "source": [
    "from sklearn.linear_model import LogisticRegression"
   ]
  },
  {
   "cell_type": "code",
   "execution_count": 34,
   "id": "aa051247",
   "metadata": {},
   "outputs": [
    {
     "name": "stderr",
     "output_type": "stream",
     "text": [
      "C:\\Users\\HP\\anaconda3\\lib\\site-packages\\sklearn\\utils\\validation.py:63: DataConversionWarning: A column-vector y was passed when a 1d array was expected. Please change the shape of y to (n_samples, ), for example using ravel().\n",
      "  return f(*args, **kwargs)\n"
     ]
    },
    {
     "data": {
      "text/plain": [
       "LogisticRegression()"
      ]
     },
     "execution_count": 34,
     "metadata": {},
     "output_type": "execute_result"
    }
   ],
   "source": [
    "logReg = LogisticRegression()\n",
    "logReg.fit(X_train, y_train)"
   ]
  },
  {
   "cell_type": "markdown",
   "id": "73256a3f",
   "metadata": {},
   "source": [
    "# 11- Affichage de la probabilité d'appartenance à chacune des classes de la variable coeur\n"
   ]
  },
  {
   "cell_type": "code",
   "execution_count": 35,
   "id": "32f4dd56",
   "metadata": {},
   "outputs": [
    {
     "data": {
      "text/plain": [
       "array([[0.32777726, 0.67222274],\n",
       "       [0.17504272, 0.82495728],\n",
       "       [0.03672641, 0.96327359],\n",
       "       [0.08969688, 0.91030312],\n",
       "       [0.23290901, 0.76709099]])"
      ]
     },
     "execution_count": 35,
     "metadata": {},
     "output_type": "execute_result"
    }
   ],
   "source": [
    "logReg.predict_proba(X_test[:5])"
   ]
  },
  {
   "cell_type": "markdown",
   "id": "8bd6a368",
   "metadata": {},
   "source": [
    "# 12- Prediction de la classe d'appartenance de chaque individu de X_test\n"
   ]
  },
  {
   "cell_type": "code",
   "execution_count": 40,
   "id": "a075f0f3",
   "metadata": {},
   "outputs": [
    {
     "data": {
      "text/plain": [
       "array([1, 1, 1, 1, 1, 0, 1, 0, 0, 1, 0, 0, 1, 1, 1, 0, 1, 0, 1, 1, 1, 0,\n",
       "       1, 0, 1, 1, 0, 1, 1, 0, 0, 0, 0, 0, 1, 1, 1, 1, 0, 0, 1, 1, 1, 0,\n",
       "       0, 0, 1, 0, 0, 1, 0, 1, 1, 0, 1, 0, 1, 0, 1, 0, 1, 1, 1, 0, 0, 1,\n",
       "       1, 1, 0, 1, 1, 0, 1, 1, 0, 1, 0, 1, 1, 1, 1, 1, 1, 1, 1, 1, 0, 0,\n",
       "       0, 0, 1, 1, 0, 1, 1, 1, 1, 1, 1, 0, 1, 0, 1, 1, 1, 0, 0, 0, 1, 0,\n",
       "       0, 1, 0, 0, 0, 0, 1, 0, 0, 1, 1, 1, 1, 0, 1, 0, 1, 0, 1, 1, 0, 1,\n",
       "       0, 1, 1, 1, 1, 1, 0, 1, 1, 0, 0, 1, 1, 1, 1, 1, 1, 1, 1, 0, 0, 0,\n",
       "       0, 1, 0, 1, 1, 1, 1, 1, 1, 0, 1, 0, 0, 1, 1, 1, 0, 1, 1, 1, 1, 1,\n",
       "       0, 0, 1, 0, 1, 0, 0, 0], dtype=int64)"
      ]
     },
     "execution_count": 40,
     "metadata": {},
     "output_type": "execute_result"
    }
   ],
   "source": [
    "y_pred= logReg.predict(X_test)\n",
    "y_pred\n"
   ]
  },
  {
   "cell_type": "code",
   "execution_count": null,
   "id": "d69cd0de",
   "metadata": {},
   "outputs": [],
   "source": []
  },
  {
   "cell_type": "markdown",
   "id": "6a29e153",
   "metadata": {},
   "source": [
    "#  confusion_matrix"
   ]
  },
  {
   "cell_type": "code",
   "execution_count": 37,
   "id": "52ea90a4",
   "metadata": {},
   "outputs": [],
   "source": [
    "from sklearn.metrics import confusion_matrix"
   ]
  },
  {
   "cell_type": "code",
   "execution_count": 39,
   "id": "440e5748",
   "metadata": {},
   "outputs": [],
   "source": [
    "matrix= confusion_matrix(y_pred, y_test)"
   ]
  },
  {
   "cell_type": "code",
   "execution_count": 41,
   "id": "e98a77c3",
   "metadata": {},
   "outputs": [
    {
     "data": {
      "text/plain": [
       "array([[ 66,   8],\n",
       "       [  8, 102]], dtype=int64)"
      ]
     },
     "execution_count": 41,
     "metadata": {},
     "output_type": "execute_result"
    }
   ],
   "source": [
    "matrix"
   ]
  },
  {
   "cell_type": "markdown",
   "id": "94cb7d22",
   "metadata": {},
   "source": [
    "# accuracy_score"
   ]
  },
  {
   "cell_type": "code",
   "execution_count": 42,
   "id": "75a3c4d8",
   "metadata": {},
   "outputs": [],
   "source": [
    "from sklearn.metrics import accuracy_score"
   ]
  },
  {
   "cell_type": "code",
   "execution_count": 43,
   "id": "9229d8a8",
   "metadata": {},
   "outputs": [
    {
     "data": {
      "text/plain": [
       "0.9130434782608695"
      ]
     },
     "execution_count": 43,
     "metadata": {},
     "output_type": "execute_result"
    }
   ],
   "source": [
    "accur= accuracy_score(y_pred, y_test)\n",
    "accur"
   ]
  },
  {
   "cell_type": "markdown",
   "id": "3ca9c1b9",
   "metadata": {},
   "source": [
    "# recall_score"
   ]
  },
  {
   "cell_type": "code",
   "execution_count": 45,
   "id": "6e6a08a1",
   "metadata": {},
   "outputs": [],
   "source": [
    "from sklearn.metrics import recall_score"
   ]
  },
  {
   "cell_type": "code",
   "execution_count": 46,
   "id": "7cc2a1ff",
   "metadata": {},
   "outputs": [
    {
     "data": {
      "text/plain": [
       "0.9272727272727272"
      ]
     },
     "execution_count": 46,
     "metadata": {},
     "output_type": "execute_result"
    }
   ],
   "source": [
    "recall= recall_score(y_pred, y_test)\n",
    "recall"
   ]
  },
  {
   "cell_type": "markdown",
   "id": "25c04242",
   "metadata": {},
   "source": [
    "#  precision_score "
   ]
  },
  {
   "cell_type": "code",
   "execution_count": 47,
   "id": "2a076b47",
   "metadata": {},
   "outputs": [],
   "source": [
    "from sklearn.metrics import precision_score"
   ]
  },
  {
   "cell_type": "code",
   "execution_count": 48,
   "id": "91d44642",
   "metadata": {},
   "outputs": [
    {
     "data": {
      "text/plain": [
       "0.9272727272727272"
      ]
     },
     "execution_count": 48,
     "metadata": {},
     "output_type": "execute_result"
    }
   ],
   "source": [
    "pre= precision_score(y_pred, y_test)\n",
    "pre"
   ]
  }
 ],
 "metadata": {
  "kernelspec": {
   "display_name": "Python 3",
   "language": "python",
   "name": "python3"
  },
  "language_info": {
   "codemirror_mode": {
    "name": "ipython",
    "version": 3
   },
   "file_extension": ".py",
   "mimetype": "text/x-python",
   "name": "python",
   "nbconvert_exporter": "python",
   "pygments_lexer": "ipython3",
   "version": "3.8.8"
  }
 },
 "nbformat": 4,
 "nbformat_minor": 5
}
